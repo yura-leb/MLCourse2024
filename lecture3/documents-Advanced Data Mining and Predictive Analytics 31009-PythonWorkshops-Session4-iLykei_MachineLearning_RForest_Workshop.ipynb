{
 "cells": [
  {
   "cell_type": "markdown",
   "id": "fc0fa295",
   "metadata": {},
   "source": [
    "# iLykei Lecture Series \n",
    "\n",
    "# Machine Learning\n",
    "\n",
    "# Random Forests \n",
    "\n",
    "# Workshop\n",
    "\n",
    "## Y.Balasanov, L.Nazarov &copy; iLykei 2017-24\n"
   ]
  },
  {
   "cell_type": "code",
   "execution_count": 1,
   "id": "fd32a6ca",
   "metadata": {},
   "outputs": [],
   "source": [
    "%matplotlib inline\n",
    "import numpy as np\n",
    "import pandas as pd\n",
    "import string\n",
    "from numpy.random import normal,random,seed\n",
    "from scipy.stats import norm\n",
    "import matplotlib.pyplot as plt\n",
    "plt.style.use('ggplot')\n",
    "from sklearn.ensemble import RandomForestRegressor,RandomForestClassifier\n",
    "from sklearn.preprocessing import LabelEncoder\n",
    "from sklearn.model_selection import cross_val_score, train_test_split\n",
    "from sklearn.metrics import log_loss"
   ]
  },
  {
   "cell_type": "markdown",
   "id": "8ac4fe3e",
   "metadata": {},
   "source": [
    "# Review of bagging and random forests       \n",
    "\n",
    "## Bagging\n",
    "\n",
    "Leo Breiman in Technical Report No. 421 (1994) [Bagging Predictors](https://www.cs.princeton.edu/courses/archive/fall08/cos402/readings/bagging.pdf) proposed to improve the decision trees performance by combining results of several trees built on randomly generated training subsets.     \n",
    "This method was called Bagging (Bootstrap AGGregating).  \n",
    "\n",
    "Denote\n",
    "\n",
    "* $X$ - set of objects;\n",
    "* $Y$ - either finite set of classes (classification) or set of real numbers (regression);\n",
    "* $f: X\\rightarrow Y$;\n",
    "* $L = {(x_1,f(x_1)),..,(x_m,f(x_n))}$ - learning sample;\n",
    "* $B^p = \\{ L_1,...,L_p \\}.$ - set of new learning samples each of size $n$, drawn from $L$ by sampling uniformly and with replacement.  \n",
    "\n",
    "Each learning sample $L_i$ generates predictor (tree) $\\widehat{f}_i$. In case of regression simple averaging gives aggregated predictor \n",
    "$$\n",
    "\\widehat{f}(x)=\\frac{1}{p}\\sum_{i=1}^{p}\\widehat{f}_{i}(x).\n",
    "$$\n",
    "A popular method of aggregating for classification problem is majority voting. Let\n",
    "$$N_{y}(x)=\\sum_{i=1}^{p}I_{\\left( \\widehat{f}_{i}(x)=y\\right) },$$\n",
    "where $I_A$ is the indicator of set $A$. The formula for aggregating predictor is\n",
    "$$\n",
    "\\widehat{f}(x)= \\underset{y\\in Y}{\\operatorname{argmax}}N_{y}(x).\n",
    "$$\n",
    "This bootstrapping procedure leads to better model performance because it decreases the variance of the model, without increasing the bias.   \n",
    "This means that while the predictions of a single tree are highly sensitive to noise in its training set, the average of many trees is not, as long as the trees are not correlated.     \n",
    "But if one or a few features happen to be very strong predictors for the response variable, these features will be selected in many of the trees, causing them to become correlated. Random forest method can overcome this disadvantage.\n",
    "\n",
    "## Random Forests\n",
    "\n",
    "Random Forest is a machine learning method capable of performing both regression and classification tasks.    \n",
    "\n",
    "It also can be used as dimensionality reduction method.    \n",
    "\n",
    "The [*sklearn.ensemble*](http://scikit-learn.org/stable/modules/classes.html#module-sklearn.ensemble) module includes two averaging algorithms based on randomized decision trees: the RandomForest algorithm and the Extra-Trees method. Both algorithms are perturb-and-combine techniques ([see here](https://www.stat.berkeley.edu/~breiman/arcall.pdf)) specifically designed for trees. This means a diverse set of classifiers is created by introducing randomness in the classifier construction. The prediction of the ensemble is given as the averaged prediction of the individual classifiers.  \n",
    "\n",
    "Random forests provide an improvement over bagged trees by decorrelating trees when the impose constraints on predictors.   \n",
    "     \n",
    "As in bagging, a number of decision trees is built on bootstrapped learning samples.     \n",
    "But when building these decision trees, each time a split in a tree is considered, a random sample of $m$ predictors is chosen as split candidates from the full set of $M$ predictors.    \n",
    "The split is allowed to use only one of those $m$ predictors.     \n",
    "Here is more detailed description of the algorithm.\n",
    "\n",
    "1. Assume that  the size of the learning set $L$ is $n$ as above.    \n",
    "Then, bootstrapped sample is generated from $L$ by sampling uniformly and with replacement.    \n",
    "This sample will be the training set for the tree.\n",
    "2. If there are $M$ input variables, a number $m<M$ is specified such that at each node, $m$ variables are selected randomly out of $M$.    \n",
    "The best split on these $m$ is used to split the node.     \n",
    "The value of $m$ is held constant through the process of growing the forest.      \n",
    "3. Algorithm builds $N_{tree}$ trees. Each of them is grown to the largest extent possible and  there is no pruning.    \n",
    "4. Predict new data by aggregating the predictions of the $N_{tree}$ trees (i.e., majority votes for classification, average for regression).\n",
    "\n",
    "The value of $m$ is taken small compare to $M$. The inventors make the following recommendations:     \n",
    "\n",
    "* For classification, the default value for $m$ is $\\sqrt{M}$  and the minimum node size is one.  \n",
    "*  For regression, the default value for $m$ is $M/3$ and the minimum\n",
    "node size is five.  \n",
    "\n",
    "In practice the best values for these parameters will depend on the problem, and they should be treated as tuning parameters.\n",
    "\n",
    "Random forest can handle large data set with higher dimensionality. It can handle thousands of input variables and identify most significant variables so it is considered as one of the dimensionality reduction methods. Further, the model outputs Importance of variable, which can be a very handy feature.  \n",
    "\n",
    "It has an effective method for estimating missing data and maintains accuracy when a large proportion of the data are missing. It has methods for balancing errors in data sets where classes are imbalanced.  \n",
    "\n",
    "Random Forest involves sampling of the input data with replacement.  Here around one third of the data are not used for training and can be used for testing.     \n",
    "These observations are called out-of-bag (OOB) samples.    \n",
    "Errors estimated on these OOB samples are known as OOB errors. The resulting OOB errors are valid estimates of the test error for the bagged model, since the response for each observation is predicted using only the trees that were not fit using that observation.    \n",
    "An OOB error estimate is close to that obtained by 3-fold crossvalidation. Hence unlike many other nonlinear estimators, random forests can be fit in one sequence, with cross-validation being performed along the way.\n",
    "\n",
    "Random Forest is better at classification but not as good for regression problems since it does not give continuous output.  \n",
    "\n",
    "It looks like a black box approach to statistical modelers - you have very little control on what the model does.    \n",
    "You can at best - try different parameters and random seeds."
   ]
  },
  {
   "cell_type": "markdown",
   "id": "c5ad58b2",
   "metadata": {},
   "source": [
    "# Regression\n",
    "\n",
    "## Example: Predicting Baseball Players' Salaries\n",
    "\n",
    "Use the Hitters data from the ISLR library for a simple example"
   ]
  },
  {
   "cell_type": "code",
   "execution_count": 2,
   "id": "02dcd002",
   "metadata": {},
   "outputs": [],
   "source": [
    "URL = 'https://raw.githubusercontent.com/JWarmenhoven/ISLR-python/master/Notebooks/Data/Hitters.csv'"
   ]
  },
  {
   "cell_type": "markdown",
   "id": "ff979ced",
   "metadata": {},
   "source": [
    "Remove missing entries and take logs"
   ]
  },
  {
   "cell_type": "code",
   "execution_count": 3,
   "id": "3396eb51",
   "metadata": {},
   "outputs": [
    {
     "data": {
      "text/html": [
       "<div>\n",
       "<style scoped>\n",
       "    .dataframe tbody tr th:only-of-type {\n",
       "        vertical-align: middle;\n",
       "    }\n",
       "\n",
       "    .dataframe tbody tr th {\n",
       "        vertical-align: top;\n",
       "    }\n",
       "\n",
       "    .dataframe thead th {\n",
       "        text-align: right;\n",
       "    }\n",
       "</style>\n",
       "<table border=\"1\" class=\"dataframe\">\n",
       "  <thead>\n",
       "    <tr style=\"text-align: right;\">\n",
       "      <th></th>\n",
       "      <th>AtBat</th>\n",
       "      <th>Hits</th>\n",
       "      <th>HmRun</th>\n",
       "      <th>Runs</th>\n",
       "      <th>RBI</th>\n",
       "      <th>Walks</th>\n",
       "      <th>Years</th>\n",
       "      <th>CAtBat</th>\n",
       "      <th>CHits</th>\n",
       "      <th>CHmRun</th>\n",
       "      <th>CRuns</th>\n",
       "      <th>CRBI</th>\n",
       "      <th>CWalks</th>\n",
       "      <th>League</th>\n",
       "      <th>Division</th>\n",
       "      <th>PutOuts</th>\n",
       "      <th>Assists</th>\n",
       "      <th>Errors</th>\n",
       "      <th>Salary</th>\n",
       "      <th>NewLeague</th>\n",
       "    </tr>\n",
       "  </thead>\n",
       "  <tbody>\n",
       "    <tr>\n",
       "      <th>-Alan Ashby</th>\n",
       "      <td>315</td>\n",
       "      <td>81</td>\n",
       "      <td>7</td>\n",
       "      <td>24</td>\n",
       "      <td>38</td>\n",
       "      <td>39</td>\n",
       "      <td>14</td>\n",
       "      <td>3449</td>\n",
       "      <td>835</td>\n",
       "      <td>69</td>\n",
       "      <td>321</td>\n",
       "      <td>414</td>\n",
       "      <td>375</td>\n",
       "      <td>N</td>\n",
       "      <td>W</td>\n",
       "      <td>632</td>\n",
       "      <td>43</td>\n",
       "      <td>10</td>\n",
       "      <td>6.163315</td>\n",
       "      <td>N</td>\n",
       "    </tr>\n",
       "    <tr>\n",
       "      <th>-Alvin Davis</th>\n",
       "      <td>479</td>\n",
       "      <td>130</td>\n",
       "      <td>18</td>\n",
       "      <td>66</td>\n",
       "      <td>72</td>\n",
       "      <td>76</td>\n",
       "      <td>3</td>\n",
       "      <td>1624</td>\n",
       "      <td>457</td>\n",
       "      <td>63</td>\n",
       "      <td>224</td>\n",
       "      <td>266</td>\n",
       "      <td>263</td>\n",
       "      <td>A</td>\n",
       "      <td>W</td>\n",
       "      <td>880</td>\n",
       "      <td>82</td>\n",
       "      <td>14</td>\n",
       "      <td>6.173786</td>\n",
       "      <td>A</td>\n",
       "    </tr>\n",
       "    <tr>\n",
       "      <th>-Andre Dawson</th>\n",
       "      <td>496</td>\n",
       "      <td>141</td>\n",
       "      <td>20</td>\n",
       "      <td>65</td>\n",
       "      <td>78</td>\n",
       "      <td>37</td>\n",
       "      <td>11</td>\n",
       "      <td>5628</td>\n",
       "      <td>1575</td>\n",
       "      <td>225</td>\n",
       "      <td>828</td>\n",
       "      <td>838</td>\n",
       "      <td>354</td>\n",
       "      <td>N</td>\n",
       "      <td>E</td>\n",
       "      <td>200</td>\n",
       "      <td>11</td>\n",
       "      <td>3</td>\n",
       "      <td>6.214608</td>\n",
       "      <td>N</td>\n",
       "    </tr>\n",
       "  </tbody>\n",
       "</table>\n",
       "</div>"
      ],
      "text/plain": [
       "               AtBat  Hits  HmRun  Runs  RBI  Walks  Years  CAtBat  CHits  \\\n",
       "-Alan Ashby      315    81      7    24   38     39     14    3449    835   \n",
       "-Alvin Davis     479   130     18    66   72     76      3    1624    457   \n",
       "-Andre Dawson    496   141     20    65   78     37     11    5628   1575   \n",
       "\n",
       "               CHmRun  CRuns  CRBI  CWalks League Division  PutOuts  Assists  \\\n",
       "-Alan Ashby        69    321   414     375      N        W      632       43   \n",
       "-Alvin Davis       63    224   266     263      A        W      880       82   \n",
       "-Andre Dawson     225    828   838     354      N        E      200       11   \n",
       "\n",
       "               Errors    Salary NewLeague  \n",
       "-Alan Ashby        10  6.163315         N  \n",
       "-Alvin Davis       14  6.173786         A  \n",
       "-Andre Dawson       3  6.214608         N  "
      ]
     },
     "execution_count": 3,
     "metadata": {},
     "output_type": "execute_result"
    }
   ],
   "source": [
    "# Read and remove incomplete cases \n",
    "Hitters = pd.read_csv(URL,index_col=0).dropna()\n",
    "# log transform Salary to make it a bit more normally distributed\n",
    "Hitters['Salary'] = np.log(Hitters.Salary)\n",
    "Hitters.head(3)"
   ]
  },
  {
   "cell_type": "markdown",
   "id": "b413ec4c",
   "metadata": {},
   "source": [
    "### Random Forest  regression     \n",
    "\n",
    "Random forest [regression](http://scikit-learn.org/stable/modules/generated/sklearn.ensemble.RandomForestRegressor.html#sklearn.ensemble.RandomForestRegressor) is implemented in the [*sklearn.ensemble*](http://scikit-learn.org/stable/modules/classes.html#module-sklearn.ensemble) module.     \n",
    "\n",
    "A random forest is a meta estimator that fits a number of decision trees on various sub-samples of the dataset and use averaging to improve the predictive accuracy and control over-fitting. The sub-sample size is always the same as the original input sample size but the samples are drawn with replacement if *bootstrap=True* (default).  \n",
    "\n",
    "This implementation does not work with categorical features. Replace them with integer ones using class [*sklearn.preprocessing.LabelEncoder*](http://scikit-learn.org/stable/modules/generated/sklearn.preprocessing.LabelEncoder.html)."
   ]
  },
  {
   "cell_type": "code",
   "execution_count": 4,
   "id": "f068bf7c",
   "metadata": {},
   "outputs": [
    {
     "name": "stdout",
     "output_type": "stream",
     "text": [
      "encode column League\n",
      "encode column Division\n",
      "encode column NewLeague\n"
     ]
    },
    {
     "data": {
      "text/html": [
       "<div>\n",
       "<style scoped>\n",
       "    .dataframe tbody tr th:only-of-type {\n",
       "        vertical-align: middle;\n",
       "    }\n",
       "\n",
       "    .dataframe tbody tr th {\n",
       "        vertical-align: top;\n",
       "    }\n",
       "\n",
       "    .dataframe thead th {\n",
       "        text-align: right;\n",
       "    }\n",
       "</style>\n",
       "<table border=\"1\" class=\"dataframe\">\n",
       "  <thead>\n",
       "    <tr style=\"text-align: right;\">\n",
       "      <th></th>\n",
       "      <th>AtBat</th>\n",
       "      <th>Hits</th>\n",
       "      <th>HmRun</th>\n",
       "      <th>Runs</th>\n",
       "      <th>RBI</th>\n",
       "      <th>Walks</th>\n",
       "      <th>Years</th>\n",
       "      <th>CAtBat</th>\n",
       "      <th>CHits</th>\n",
       "      <th>CHmRun</th>\n",
       "      <th>CRuns</th>\n",
       "      <th>CRBI</th>\n",
       "      <th>CWalks</th>\n",
       "      <th>League</th>\n",
       "      <th>Division</th>\n",
       "      <th>PutOuts</th>\n",
       "      <th>Assists</th>\n",
       "      <th>Errors</th>\n",
       "      <th>Salary</th>\n",
       "      <th>NewLeague</th>\n",
       "    </tr>\n",
       "  </thead>\n",
       "  <tbody>\n",
       "    <tr>\n",
       "      <th>-Alan Ashby</th>\n",
       "      <td>315</td>\n",
       "      <td>81</td>\n",
       "      <td>7</td>\n",
       "      <td>24</td>\n",
       "      <td>38</td>\n",
       "      <td>39</td>\n",
       "      <td>14</td>\n",
       "      <td>3449</td>\n",
       "      <td>835</td>\n",
       "      <td>69</td>\n",
       "      <td>321</td>\n",
       "      <td>414</td>\n",
       "      <td>375</td>\n",
       "      <td>1</td>\n",
       "      <td>1</td>\n",
       "      <td>632</td>\n",
       "      <td>43</td>\n",
       "      <td>10</td>\n",
       "      <td>6.163315</td>\n",
       "      <td>1</td>\n",
       "    </tr>\n",
       "    <tr>\n",
       "      <th>-Alvin Davis</th>\n",
       "      <td>479</td>\n",
       "      <td>130</td>\n",
       "      <td>18</td>\n",
       "      <td>66</td>\n",
       "      <td>72</td>\n",
       "      <td>76</td>\n",
       "      <td>3</td>\n",
       "      <td>1624</td>\n",
       "      <td>457</td>\n",
       "      <td>63</td>\n",
       "      <td>224</td>\n",
       "      <td>266</td>\n",
       "      <td>263</td>\n",
       "      <td>0</td>\n",
       "      <td>1</td>\n",
       "      <td>880</td>\n",
       "      <td>82</td>\n",
       "      <td>14</td>\n",
       "      <td>6.173786</td>\n",
       "      <td>0</td>\n",
       "    </tr>\n",
       "    <tr>\n",
       "      <th>-Andre Dawson</th>\n",
       "      <td>496</td>\n",
       "      <td>141</td>\n",
       "      <td>20</td>\n",
       "      <td>65</td>\n",
       "      <td>78</td>\n",
       "      <td>37</td>\n",
       "      <td>11</td>\n",
       "      <td>5628</td>\n",
       "      <td>1575</td>\n",
       "      <td>225</td>\n",
       "      <td>828</td>\n",
       "      <td>838</td>\n",
       "      <td>354</td>\n",
       "      <td>1</td>\n",
       "      <td>0</td>\n",
       "      <td>200</td>\n",
       "      <td>11</td>\n",
       "      <td>3</td>\n",
       "      <td>6.214608</td>\n",
       "      <td>1</td>\n",
       "    </tr>\n",
       "  </tbody>\n",
       "</table>\n",
       "</div>"
      ],
      "text/plain": [
       "               AtBat  Hits  HmRun  Runs  RBI  Walks  Years  CAtBat  CHits  \\\n",
       "-Alan Ashby      315    81      7    24   38     39     14    3449    835   \n",
       "-Alvin Davis     479   130     18    66   72     76      3    1624    457   \n",
       "-Andre Dawson    496   141     20    65   78     37     11    5628   1575   \n",
       "\n",
       "               CHmRun  CRuns  CRBI  CWalks  League  Division  PutOuts  \\\n",
       "-Alan Ashby        69    321   414     375       1         1      632   \n",
       "-Alvin Davis       63    224   266     263       0         1      880   \n",
       "-Andre Dawson     225    828   838     354       1         0      200   \n",
       "\n",
       "               Assists  Errors    Salary  NewLeague  \n",
       "-Alan Ashby         43      10  6.163315          1  \n",
       "-Alvin Davis        82      14  6.173786          0  \n",
       "-Andre Dawson       11       3  6.214608          1  "
      ]
     },
     "execution_count": 4,
     "metadata": {},
     "output_type": "execute_result"
    }
   ],
   "source": [
    "le = LabelEncoder()\n",
    "for col_name,col_type in zip(list(Hitters),Hitters.dtypes):\n",
    "    if col_type=='object':\n",
    "        print('encode column',col_name)\n",
    "        Hitters[col_name] = le.fit_transform(Hitters[col_name])   \n",
    "Hitters.head(3)"
   ]
  },
  {
   "cell_type": "markdown",
   "id": "4fa390f2",
   "metadata": {},
   "source": [
    "#### Default arguments    \n",
    "\n",
    "Set seed for reproducibility and grow a forest."
   ]
  },
  {
   "cell_type": "code",
   "execution_count": 5,
   "id": "38d2ad3b",
   "metadata": {},
   "outputs": [
    {
     "name": "stdout",
     "output_type": "stream",
     "text": [
      "coefficient of determination R^2 = 0.7570025817947998\n"
     ]
    }
   ],
   "source": [
    "# oob_score: whether to use out-of-bag samples to estimate the R^2 on unseen data \n",
    "# n_jobs=-1: the number of jobs is set to the number of cores\n",
    "rfSalary = RandomForestRegressor(n_estimators=500,random_state=0,\n",
    "                                 oob_score=True,\n",
    "                                 n_jobs=-1)\n",
    "X, y = Hitters.drop('Salary',axis=1),Hitters.Salary\n",
    "rfSalary.fit(X, y)\n",
    "print('coefficient of determination R^2 =',rfSalary.oob_score_)"
   ]
  },
  {
   "cell_type": "markdown",
   "id": "f96d22a1",
   "metadata": {},
   "source": [
    "The `RandomForestRegressor` class instance has attribute  \n",
    "`feature\\_importances\\_ : array of shape = (n_features,)`.  \n",
    "The higher feature importance, the more important is the feature."
   ]
  },
  {
   "cell_type": "code",
   "execution_count": 6,
   "id": "06397a9e",
   "metadata": {},
   "outputs": [
    {
     "name": "stdout",
     "output_type": "stream",
     "text": [
      "[0.03887115 0.04079394 0.01082699 0.01939749 0.0298337  0.03659159\n",
      " 0.01130996 0.38249288 0.11890794 0.02206307 0.16701218 0.04776389\n",
      " 0.03200204 0.00126962 0.00158199 0.01961315 0.00827203 0.00904423\n",
      " 0.00235216]\n"
     ]
    }
   ],
   "source": [
    "print(rfSalary.feature_importances_)"
   ]
  },
  {
   "cell_type": "markdown",
   "id": "fcd967a7",
   "metadata": {},
   "source": [
    "We can also sort variables according to its importances and plot them"
   ]
  },
  {
   "cell_type": "code",
   "execution_count": 7,
   "id": "a6d5129e",
   "metadata": {},
   "outputs": [
    {
     "data": {
      "text/plain": [
       "<Axes: >"
      ]
     },
     "execution_count": 7,
     "metadata": {},
     "output_type": "execute_result"
    },
    {
     "data": {
      "image/png": "[encoded data removed]",
      "text/plain": [
       "<Figure size 640x480 with 1 Axes>"
      ]
     },
     "metadata": {},
     "output_type": "display_data"
    }
   ],
   "source": [
    "imp = pd.Series(rfSalary.feature_importances_, \n",
    "                index=list(X)).sort_values()\n",
    "imp[-10:].plot(kind = 'barh', color='blue')"
   ]
  },
  {
   "cell_type": "markdown",
   "id": "463e03a8",
   "metadata": {},
   "source": [
    "#### Reduced number of trees\n",
    "Compare forests with 500 and 200 trees:"
   ]
  },
  {
   "cell_type": "code",
   "execution_count": 8,
   "id": "bb639395",
   "metadata": {},
   "outputs": [
    {
     "name": "stdout",
     "output_type": "stream",
     "text": [
      "T200 R^2 = 0.7601575008623296\n",
      "T500 R^2 = 0.7570025817947998\n"
     ]
    }
   ],
   "source": [
    "rfSalary200 = RandomForestRegressor(n_estimators=200,\n",
    "                                    random_state=0,oob_score=True,\n",
    "                                    n_jobs=-1)\n",
    "rfSalary200.fit(X, y)\n",
    "print('T200 R^2 =',rfSalary200.oob_score_)\n",
    "print('T500 R^2 =',rfSalary.oob_score_)"
   ]
  },
  {
   "cell_type": "markdown",
   "id": "59b6b41f",
   "metadata": {},
   "source": [
    "Does the relative importance change?"
   ]
  },
  {
   "cell_type": "code",
   "execution_count": 9,
   "id": "f0621cb1",
   "metadata": {},
   "outputs": [
    {
     "data": {
      "text/html": [
       "<div>\n",
       "<style scoped>\n",
       "    .dataframe tbody tr th:only-of-type {\n",
       "        vertical-align: middle;\n",
       "    }\n",
       "\n",
       "    .dataframe tbody tr th {\n",
       "        vertical-align: top;\n",
       "    }\n",
       "\n",
       "    .dataframe thead th {\n",
       "        text-align: right;\n",
       "    }\n",
       "</style>\n",
       "<table border=\"1\" class=\"dataframe\">\n",
       "  <thead>\n",
       "    <tr style=\"text-align: right;\">\n",
       "      <th></th>\n",
       "      <th>T200</th>\n",
       "      <th>T500</th>\n",
       "    </tr>\n",
       "  </thead>\n",
       "  <tbody>\n",
       "    <tr>\n",
       "      <th>18</th>\n",
       "      <td>CAtBat</td>\n",
       "      <td>CAtBat</td>\n",
       "    </tr>\n",
       "    <tr>\n",
       "      <th>17</th>\n",
       "      <td>CRuns</td>\n",
       "      <td>CRuns</td>\n",
       "    </tr>\n",
       "    <tr>\n",
       "      <th>16</th>\n",
       "      <td>CHits</td>\n",
       "      <td>CHits</td>\n",
       "    </tr>\n",
       "    <tr>\n",
       "      <th>15</th>\n",
       "      <td>CRBI</td>\n",
       "      <td>CRBI</td>\n",
       "    </tr>\n",
       "    <tr>\n",
       "      <th>14</th>\n",
       "      <td>Hits</td>\n",
       "      <td>Hits</td>\n",
       "    </tr>\n",
       "    <tr>\n",
       "      <th>13</th>\n",
       "      <td>CWalks</td>\n",
       "      <td>AtBat</td>\n",
       "    </tr>\n",
       "    <tr>\n",
       "      <th>12</th>\n",
       "      <td>Walks</td>\n",
       "      <td>Walks</td>\n",
       "    </tr>\n",
       "    <tr>\n",
       "      <th>11</th>\n",
       "      <td>AtBat</td>\n",
       "      <td>CWalks</td>\n",
       "    </tr>\n",
       "    <tr>\n",
       "      <th>10</th>\n",
       "      <td>RBI</td>\n",
       "      <td>RBI</td>\n",
       "    </tr>\n",
       "    <tr>\n",
       "      <th>9</th>\n",
       "      <td>CHmRun</td>\n",
       "      <td>CHmRun</td>\n",
       "    </tr>\n",
       "    <tr>\n",
       "      <th>8</th>\n",
       "      <td>Runs</td>\n",
       "      <td>PutOuts</td>\n",
       "    </tr>\n",
       "    <tr>\n",
       "      <th>7</th>\n",
       "      <td>PutOuts</td>\n",
       "      <td>Runs</td>\n",
       "    </tr>\n",
       "    <tr>\n",
       "      <th>6</th>\n",
       "      <td>Years</td>\n",
       "      <td>Years</td>\n",
       "    </tr>\n",
       "    <tr>\n",
       "      <th>5</th>\n",
       "      <td>HmRun</td>\n",
       "      <td>HmRun</td>\n",
       "    </tr>\n",
       "    <tr>\n",
       "      <th>4</th>\n",
       "      <td>Errors</td>\n",
       "      <td>Errors</td>\n",
       "    </tr>\n",
       "    <tr>\n",
       "      <th>3</th>\n",
       "      <td>Assists</td>\n",
       "      <td>Assists</td>\n",
       "    </tr>\n",
       "    <tr>\n",
       "      <th>2</th>\n",
       "      <td>NewLeague</td>\n",
       "      <td>NewLeague</td>\n",
       "    </tr>\n",
       "    <tr>\n",
       "      <th>1</th>\n",
       "      <td>Division</td>\n",
       "      <td>Division</td>\n",
       "    </tr>\n",
       "    <tr>\n",
       "      <th>0</th>\n",
       "      <td>League</td>\n",
       "      <td>League</td>\n",
       "    </tr>\n",
       "  </tbody>\n",
       "</table>\n",
       "</div>"
      ],
      "text/plain": [
       "         T200       T500\n",
       "18     CAtBat     CAtBat\n",
       "17      CRuns      CRuns\n",
       "16      CHits      CHits\n",
       "15       CRBI       CRBI\n",
       "14       Hits       Hits\n",
       "13     CWalks      AtBat\n",
       "12      Walks      Walks\n",
       "11      AtBat     CWalks\n",
       "10        RBI        RBI\n",
       "9      CHmRun     CHmRun\n",
       "8        Runs    PutOuts\n",
       "7     PutOuts       Runs\n",
       "6       Years      Years\n",
       "5       HmRun      HmRun\n",
       "4      Errors     Errors\n",
       "3     Assists    Assists\n",
       "2   NewLeague  NewLeague\n",
       "1    Division   Division\n",
       "0      League     League"
      ]
     },
     "execution_count": 9,
     "metadata": {},
     "output_type": "execute_result"
    }
   ],
   "source": [
    "imp200 = pd.Series(rfSalary200.feature_importances_, \n",
    "                   index=list(X)).sort_values()\n",
    "# reverse to show important features first\n",
    "pd.DataFrame({'T200':imp200.index,'T500':imp.index})[::-1]"
   ]
  },
  {
   "cell_type": "markdown",
   "id": "1aea5bce",
   "metadata": {},
   "source": [
    "#### Variation of number of variables in split"
   ]
  },
  {
   "cell_type": "code",
   "execution_count": 10,
   "id": "9cc39a2c",
   "metadata": {},
   "outputs": [
    {
     "name": "stdout",
     "output_type": "stream",
     "text": [
      "[0.7442778311539155, 0.7750295728054246, 0.7726048835542285, 0.7773888705964926, 0.7672287600339333, 0.7749215143564506]\n"
     ]
    },
    {
     "data": {
      "text/plain": [
       "[<matplotlib.lines.Line2D at 0x71f82082b220>]"
      ]
     },
     "execution_count": 10,
     "metadata": {},
     "output_type": "execute_result"
    },
    {
     "data": {
      "image/png": "[encoded data removed]",
      "text/plain": [
       "<Figure size 640x480 with 1 Axes>"
      ]
     },
     "metadata": {},
     "output_type": "display_data"
    }
   ],
   "source": [
    "max_features_quality = [RandomForestRegressor(n_estimators=200,\n",
    "                                              random_state=0,\n",
    "                                              oob_score=True,\n",
    "               n_jobs=-1,max_features=i).fit(X,y).oob_score_ \n",
    "               for i in np.arange(1,X.shape[1])]\n",
    "\n",
    "print(max_features_quality[:6])\n",
    "plt.plot(np.arange(1,X.shape[1]),max_features_quality, color='blue')"
   ]
  },
  {
   "cell_type": "markdown",
   "id": "e1fd6811",
   "metadata": {},
   "source": [
    "Plotting the curves for different numbers of variables at each split suggests to use parameter `max_features` equal to 6.    \n",
    "\n",
    "#### Predicting and calculating RMSE for the random forest model."
   ]
  },
  {
   "cell_type": "code",
   "execution_count": 11,
   "id": "4d1e81d8",
   "metadata": {},
   "outputs": [
    {
     "name": "stdout",
     "output_type": "stream",
     "text": [
      "train RMSE = 0.15244572792480246\n"
     ]
    }
   ],
   "source": [
    "def RMSE(x,y): \n",
    "    return np.mean((x - y)**2)**0.5\n",
    "rfSalary200 = RandomForestRegressor(n_estimators=200,random_state=0,\n",
    "                                    oob_score=True,n_jobs=-1,\n",
    "                                    max_features=6)\n",
    "rfSalary200.fit(X, y)\n",
    "print('train RMSE =',RMSE(Hitters.Salary,rfSalary200.predict(X)))"
   ]
  },
  {
   "cell_type": "markdown",
   "id": "2b2971bc",
   "metadata": {},
   "source": [
    "Note that it is prediction for the train set. Out-of-bag RMSE is more adequate estimate of the model quality."
   ]
  },
  {
   "cell_type": "code",
   "execution_count": 12,
   "id": "609c0014",
   "metadata": {},
   "outputs": [
    {
     "name": "stdout",
     "output_type": "stream",
     "text": [
      "OOB RMSE = 0.42105177264343685\n"
     ]
    }
   ],
   "source": [
    "print('OOB RMSE =',RMSE(Hitters.Salary,rfSalary200.oob_prediction_))"
   ]
  },
  {
   "cell_type": "markdown",
   "id": "85b475e5",
   "metadata": {},
   "source": [
    "## Example: Large Number of Predictors\n",
    "\n",
    "Consider the example analyzed in the workshop Linear Regression with Large Number of Predictors. Simulate data"
   ]
  },
  {
   "cell_type": "code",
   "execution_count": 13,
   "id": "48503742",
   "metadata": {},
   "outputs": [],
   "source": [
    "N = 500\n",
    "np.random.seed(0)\n",
    "Epsilon = np.random.normal(size=N)\n",
    "X = pd.DataFrame(np.random.normal(0, 2, size=(N,N))).add_prefix('X')\n",
    "slopesSet = np.random.uniform(1,3,N)\n",
    "Y = [1 + X.iloc[:,:z] @ slopesSet[:z] + Epsilon for z in np.arange(1,N)]\n",
    "X.head(5)\n",
    "m = 440\n",
    "X,y = X.iloc[:,:m],Y[m-1]"
   ]
  },
  {
   "cell_type": "code",
   "execution_count": 14,
   "id": "73d20e4c",
   "metadata": {},
   "outputs": [
    {
     "data": {
      "text/plain": [
       "<matplotlib.legend.Legend at 0x71f820683940>"
      ]
     },
     "execution_count": 14,
     "metadata": {},
     "output_type": "execute_result"
    },
    {
     "data": {
      "image/png": "[encoded data removed]",
      "text/plain": [
       "<Figure size 640x480 with 1 Axes>"
      ]
     },
     "metadata": {},
     "output_type": "display_data"
    }
   ],
   "source": [
    "# set warm_start=True to reuse the solution of the previous call to fit\n",
    "rfManyReg = RandomForestRegressor(warm_start=True,random_state=0,\n",
    "                                  oob_score=True, n_jobs=-1)\n",
    "min_estimators = 30\n",
    "max_estimators = 250\n",
    "step = 5\n",
    "est_range = np.arange(min_estimators, max_estimators + 1,step)\n",
    "error_rate = np.zeros((max_estimators-min_estimators)//step+1)\n",
    "\n",
    "for i in est_range:\n",
    "    rfManyReg.set_params(n_estimators=i)\n",
    "    rfManyReg.fit(X, y)\n",
    "    error_rate[(i-min_estimators)//step] = RMSE(y,\n",
    "                                                rfManyReg.oob_prediction_)**2   \n",
    "        \n",
    "plt.plot(est_range,error_rate, color = 'blue')\n",
    "plt.legend(['OOB MSE'])"
   ]
  },
  {
   "cell_type": "markdown",
   "id": "65d30bd5",
   "metadata": {},
   "source": [
    "Seems like 150 trees is quite enough for the model. In the previous lectures we got 10 fold cross validation MSE for linear model about 45 and for regression tree it was above 13000. Calculate the score for random forest."
   ]
  },
  {
   "cell_type": "code",
   "execution_count": 15,
   "id": "8c0a8abb",
   "metadata": {},
   "outputs": [
    {
     "name": "stdout",
     "output_type": "stream",
     "text": [
      "Random Forest Regressor model CV MSE =  6944.099343652687\n"
     ]
    }
   ],
   "source": [
    "rf150 = RandomForestRegressor(random_state=0,n_estimators=150,n_jobs=-1)\n",
    "print ('Random Forest Regressor model CV MSE = ',\n",
    "       -np.mean(cross_val_score(rf150, X, y,\n",
    "                                scoring='neg_mean_squared_error',\n",
    "                                cv=10)))"
   ]
  },
  {
   "cell_type": "markdown",
   "id": "c4eaa003",
   "metadata": {},
   "source": [
    "Significant improvement compare to regression tree but far behind the linear model.   \n",
    "\n",
    "#### Importance of predictors"
   ]
  },
  {
   "cell_type": "code",
   "execution_count": 16,
   "id": "d798d309",
   "metadata": {},
   "outputs": [
    {
     "data": {
      "image/png": "[encoded data removed]",
      "text/plain": [
       "<Figure size 640x480 with 1 Axes>"
      ]
     },
     "metadata": {},
     "output_type": "display_data"
    }
   ],
   "source": [
    "imp = pd.DataFrame({'importance':rfManyReg.feature_importances_,\n",
    "                    'slope':slopesSet[:m]},\n",
    "                   index=list(X)).sort_values('importance')\n",
    "imp[-10:].importance.plot(kind = 'barh', color = 'blue')\n",
    "_ = plt.title('Variable Importance')"
   ]
  },
  {
   "cell_type": "markdown",
   "id": "6a7a5414",
   "metadata": {},
   "source": [
    "Check if importance of variables is explained by the value of the simulated betas. Calculate empirical copula."
   ]
  },
  {
   "cell_type": "code",
   "execution_count": 17,
   "id": "f449cd21",
   "metadata": {},
   "outputs": [
    {
     "data": {
      "text/plain": [
       "<Axes: xlabel='importance_rank', ylabel='slope_rank'>"
      ]
     },
     "execution_count": 17,
     "metadata": {},
     "output_type": "execute_result"
    },
    {
     "data": {
      "image/png": "[encoded data removed]",
      "text/plain": [
       "<Figure size 640x480 with 1 Axes>"
      ]
     },
     "metadata": {},
     "output_type": "display_data"
    }
   ],
   "source": [
    "imp['importance_rank']=imp['importance'].rank()\n",
    "imp['slope_rank']=imp['slope'].rank()\n",
    "imp.plot(x='importance_rank',y='slope_rank',kind='scatter')"
   ]
  },
  {
   "cell_type": "markdown",
   "id": "9d4f90da",
   "metadata": {},
   "source": [
    "The empirical copula shows independence of the importance index and the betas used in simulation."
   ]
  },
  {
   "cell_type": "code",
   "execution_count": 18,
   "id": "54045ddd",
   "metadata": {},
   "outputs": [
    {
     "data": {
      "text/plain": [
       "array([[434,  65],\n",
       "       [435, 356],\n",
       "       [436, 229],\n",
       "       [437, 320],\n",
       "       [438, 193],\n",
       "       [439, 385]])"
      ]
     },
     "execution_count": 18,
     "metadata": {},
     "output_type": "execute_result"
    }
   ],
   "source": [
    "np.column_stack((np.argsort(imp.importance),\n",
    "                 np.argsort(imp.slope)))[-6:]"
   ]
  },
  {
   "cell_type": "markdown",
   "id": "5230b1f3",
   "metadata": {},
   "source": [
    "Recall that all parameters are simulated as significant and all predictors are independent by construction.     \n",
    "The larger the coefficient - the more significant should be the predictor.     \n",
    "Random tree may not be assigning importance correctly in this case.    \n",
    "\n",
    "# Classification\n",
    "\n",
    "## Otto Product Classification Example\n",
    "\n",
    "In this example we use data set provided by **Otto Group** for **Kaggle** competition [Otto Group Product Classification Challenge](https://www.kaggle.com/c/otto-group-product-classification-challenge).      \n",
    "\n",
    "Otto Group needed categorizing about 200,000 unspecified products into 9 classes based on 93 unspecified features. For simplicity we reduced the number of visitors and the number of classes.     \n",
    "\n",
    "Load the data set."
   ]
  },
  {
   "cell_type": "code",
   "execution_count": 19,
   "id": "a7e1a653",
   "metadata": {},
   "outputs": [
    {
     "data": {
      "text/html": [
       "<div>\n",
       "<style scoped>\n",
       "    .dataframe tbody tr th:only-of-type {\n",
       "        vertical-align: middle;\n",
       "    }\n",
       "\n",
       "    .dataframe tbody tr th {\n",
       "        vertical-align: top;\n",
       "    }\n",
       "\n",
       "    .dataframe thead th {\n",
       "        text-align: right;\n",
       "    }\n",
       "</style>\n",
       "<table border=\"1\" class=\"dataframe\">\n",
       "  <thead>\n",
       "    <tr style=\"text-align: right;\">\n",
       "      <th></th>\n",
       "      <th>time</th>\n",
       "      <th>feat_1</th>\n",
       "      <th>feat_2</th>\n",
       "      <th>feat_3</th>\n",
       "      <th>feat_4</th>\n",
       "      <th>feat_5</th>\n",
       "      <th>feat_6</th>\n",
       "      <th>feat_7</th>\n",
       "      <th>feat_8</th>\n",
       "      <th>feat_9</th>\n",
       "      <th>...</th>\n",
       "      <th>feat_85</th>\n",
       "      <th>feat_86</th>\n",
       "      <th>feat_87</th>\n",
       "      <th>feat_88</th>\n",
       "      <th>feat_89</th>\n",
       "      <th>feat_90</th>\n",
       "      <th>feat_91</th>\n",
       "      <th>feat_92</th>\n",
       "      <th>feat_93</th>\n",
       "      <th>target</th>\n",
       "    </tr>\n",
       "  </thead>\n",
       "  <tbody>\n",
       "    <tr>\n",
       "      <th>0</th>\n",
       "      <td>45652</td>\n",
       "      <td>0.0</td>\n",
       "      <td>0.0</td>\n",
       "      <td>0.0</td>\n",
       "      <td>0.0</td>\n",
       "      <td>0.0</td>\n",
       "      <td>0.0</td>\n",
       "      <td>0.0</td>\n",
       "      <td>0.0</td>\n",
       "      <td>0.0</td>\n",
       "      <td>...</td>\n",
       "      <td>0.0</td>\n",
       "      <td>1.0</td>\n",
       "      <td>0.0</td>\n",
       "      <td>0.0</td>\n",
       "      <td>0.0</td>\n",
       "      <td>0.0</td>\n",
       "      <td>0.0</td>\n",
       "      <td>1.0</td>\n",
       "      <td>0.0</td>\n",
       "      <td>Class_5</td>\n",
       "    </tr>\n",
       "    <tr>\n",
       "      <th>1</th>\n",
       "      <td>225646</td>\n",
       "      <td>0.0</td>\n",
       "      <td>0.0</td>\n",
       "      <td>0.0</td>\n",
       "      <td>0.0</td>\n",
       "      <td>0.0</td>\n",
       "      <td>0.0</td>\n",
       "      <td>0.0</td>\n",
       "      <td>1.0</td>\n",
       "      <td>0.0</td>\n",
       "      <td>...</td>\n",
       "      <td>0.0</td>\n",
       "      <td>0.0</td>\n",
       "      <td>0.0</td>\n",
       "      <td>0.0</td>\n",
       "      <td>0.0</td>\n",
       "      <td>0.0</td>\n",
       "      <td>1.0</td>\n",
       "      <td>1.0</td>\n",
       "      <td>0.0</td>\n",
       "      <td>Class_3</td>\n",
       "    </tr>\n",
       "    <tr>\n",
       "      <th>2</th>\n",
       "      <td>345735</td>\n",
       "      <td>0.0</td>\n",
       "      <td>0.0</td>\n",
       "      <td>0.0</td>\n",
       "      <td>0.0</td>\n",
       "      <td>0.0</td>\n",
       "      <td>0.0</td>\n",
       "      <td>0.0</td>\n",
       "      <td>2.0</td>\n",
       "      <td>0.0</td>\n",
       "      <td>...</td>\n",
       "      <td>0.0</td>\n",
       "      <td>7.0</td>\n",
       "      <td>4.0</td>\n",
       "      <td>0.0</td>\n",
       "      <td>0.0</td>\n",
       "      <td>0.0</td>\n",
       "      <td>0.0</td>\n",
       "      <td>0.0</td>\n",
       "      <td>0.0</td>\n",
       "      <td>Class_5</td>\n",
       "    </tr>\n",
       "    <tr>\n",
       "      <th>3</th>\n",
       "      <td>436478</td>\n",
       "      <td>0.0</td>\n",
       "      <td>0.0</td>\n",
       "      <td>0.0</td>\n",
       "      <td>0.0</td>\n",
       "      <td>0.0</td>\n",
       "      <td>0.0</td>\n",
       "      <td>0.0</td>\n",
       "      <td>1.0</td>\n",
       "      <td>0.0</td>\n",
       "      <td>...</td>\n",
       "      <td>0.0</td>\n",
       "      <td>0.0</td>\n",
       "      <td>0.0</td>\n",
       "      <td>0.0</td>\n",
       "      <td>0.0</td>\n",
       "      <td>0.0</td>\n",
       "      <td>0.0</td>\n",
       "      <td>1.0</td>\n",
       "      <td>0.0</td>\n",
       "      <td>Class_5</td>\n",
       "    </tr>\n",
       "    <tr>\n",
       "      <th>4</th>\n",
       "      <td>478129</td>\n",
       "      <td>0.0</td>\n",
       "      <td>0.0</td>\n",
       "      <td>0.0</td>\n",
       "      <td>0.0</td>\n",
       "      <td>0.0</td>\n",
       "      <td>0.0</td>\n",
       "      <td>0.0</td>\n",
       "      <td>1.0</td>\n",
       "      <td>0.0</td>\n",
       "      <td>...</td>\n",
       "      <td>0.0</td>\n",
       "      <td>1.0</td>\n",
       "      <td>0.0</td>\n",
       "      <td>0.0</td>\n",
       "      <td>0.0</td>\n",
       "      <td>0.0</td>\n",
       "      <td>0.0</td>\n",
       "      <td>0.0</td>\n",
       "      <td>0.0</td>\n",
       "      <td>Class_5</td>\n",
       "    </tr>\n",
       "  </tbody>\n",
       "</table>\n",
       "<p>5 rows × 95 columns</p>\n",
       "</div>"
      ],
      "text/plain": [
       "     time  feat_1  feat_2  feat_3  feat_4  feat_5  feat_6  feat_7  feat_8  \\\n",
       "0   45652     0.0     0.0     0.0     0.0     0.0     0.0     0.0     0.0   \n",
       "1  225646     0.0     0.0     0.0     0.0     0.0     0.0     0.0     1.0   \n",
       "2  345735     0.0     0.0     0.0     0.0     0.0     0.0     0.0     2.0   \n",
       "3  436478     0.0     0.0     0.0     0.0     0.0     0.0     0.0     1.0   \n",
       "4  478129     0.0     0.0     0.0     0.0     0.0     0.0     0.0     1.0   \n",
       "\n",
       "   feat_9  ...  feat_85  feat_86  feat_87  feat_88  feat_89  feat_90  feat_91  \\\n",
       "0     0.0  ...      0.0      1.0      0.0      0.0      0.0      0.0      0.0   \n",
       "1     0.0  ...      0.0      0.0      0.0      0.0      0.0      0.0      1.0   \n",
       "2     0.0  ...      0.0      7.0      4.0      0.0      0.0      0.0      0.0   \n",
       "3     0.0  ...      0.0      0.0      0.0      0.0      0.0      0.0      0.0   \n",
       "4     0.0  ...      0.0      1.0      0.0      0.0      0.0      0.0      0.0   \n",
       "\n",
       "   feat_92  feat_93   target  \n",
       "0      1.0      0.0  Class_5  \n",
       "1      1.0      0.0  Class_3  \n",
       "2      0.0      0.0  Class_5  \n",
       "3      1.0      0.0  Class_5  \n",
       "4      0.0      0.0  Class_5  \n",
       "\n",
       "[5 rows x 95 columns]"
      ]
     },
     "execution_count": 19,
     "metadata": {},
     "output_type": "execute_result"
    }
   ],
   "source": [
    "Data = pd.read_csv('DTTrain.csv')\n",
    "Data.shape # dataset dimensions\n",
    "# data content\n",
    "Data.head()"
   ]
  },
  {
   "cell_type": "markdown",
   "id": "b52d9a1a",
   "metadata": {},
   "source": [
    "Encode labels of target column and partition data into train (2/3) and test (1/3) sets."
   ]
  },
  {
   "cell_type": "code",
   "execution_count": 20,
   "id": "6d95b32f",
   "metadata": {},
   "outputs": [],
   "source": [
    "X = Data.drop(['time','target'],axis=1)\n",
    "y = LabelEncoder().fit_transform(Data.target)\n",
    "xTrain, xTest, yTrain, yTest = train_test_split(X, y,test_size=1/3, \n",
    "                                                random_state=0)"
   ]
  },
  {
   "cell_type": "markdown",
   "id": "d31b0777",
   "metadata": {},
   "source": [
    "Fit random forest to the train data and make prediction on the test data."
   ]
  },
  {
   "cell_type": "code",
   "execution_count": 21,
   "id": "0de7415f",
   "metadata": {},
   "outputs": [
    {
     "data": {
      "text/plain": [
       "array([[0.04, 0.16, 0.03, 0.69, 0.08],\n",
       "       [0.06, 0.66, 0.  , 0.04, 0.24],\n",
       "       [0.04, 0.8 , 0.03, 0.07, 0.06],\n",
       "       [0.  , 0.98, 0.  , 0.02, 0.  ]])"
      ]
     },
     "execution_count": 21,
     "metadata": {},
     "output_type": "execute_result"
    }
   ],
   "source": [
    "rfOtto = RandomForestClassifier(n_estimators=100,random_state=0,n_jobs=-1)\n",
    "rfOtto.fit(xTrain,yTrain)\n",
    "rfPred = rfOtto.predict_proba(xTest,)\n",
    "rfPred[1:5]"
   ]
  },
  {
   "cell_type": "markdown",
   "id": "dad23af6",
   "metadata": {},
   "source": [
    "Use Multiclass logloss for estimating prediction quality. Calculate it for random forest."
   ]
  },
  {
   "cell_type": "code",
   "execution_count": 22,
   "id": "80e180ea",
   "metadata": {},
   "outputs": [
    {
     "name": "stdout",
     "output_type": "stream",
     "text": [
      "Random forest logloss 0.39537975145332516\n"
     ]
    }
   ],
   "source": [
    "rfLogLoss = log_loss(yTest, rfPred)\n",
    "print('Random forest logloss',rfLogLoss)"
   ]
  }
 ],
 "metadata": {
  "kernelspec": {
   "display_name": "Python 3 (ipykernel)",
   "language": "python",
   "name": "python3"
  },
  "language_info": {
   "codemirror_mode": {
    "name": "ipython",
    "version": 3
   },
   "file_extension": ".py",
   "mimetype": "text/x-python",
   "name": "python",
   "nbconvert_exporter": "python",
   "pygments_lexer": "ipython3",
   "version": "3.10.12"
  }
 },
 "nbformat": 4,
 "nbformat_minor": 5
}
